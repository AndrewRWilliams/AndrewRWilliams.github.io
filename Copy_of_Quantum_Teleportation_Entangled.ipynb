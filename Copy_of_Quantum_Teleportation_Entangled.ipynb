{
  "nbformat": 4,
  "nbformat_minor": 0,
  "metadata": {
    "kernelspec": {
      "display_name": "Python 3",
      "language": "python",
      "name": "python3"
    },
    "language_info": {
      "codemirror_mode": {
        "name": "ipython",
        "version": 3
      },
      "file_extension": ".py",
      "mimetype": "text/x-python",
      "name": "python",
      "nbconvert_exporter": "python",
      "pygments_lexer": "ipython3",
      "version": "3.8.3-final"
    },
    "colab": {
      "name": "Copy of Quantum Teleportation Entangled.ipynb",
      "provenance": [],
      "collapsed_sections": [],
      "include_colab_link": true
    }
  },
  "cells": [
    {
      "cell_type": "markdown",
      "metadata": {
        "id": "view-in-github",
        "colab_type": "text"
      },
      "source": [
        "<a href=\"https://colab.research.google.com/github/AndrewRWilliams/AndrewRWilliams.github.io/blob/master/Copy_of_Quantum_Teleportation_Entangled.ipynb\" target=\"_parent\"><img src=\"https://colab.research.google.com/assets/colab-badge.svg\" alt=\"Open In Colab\"/></a>"
      ]
    },
    {
      "cell_type": "code",
      "metadata": {
        "id": "kAzY-0oOtnCi"
      },
      "source": [
        "!pip install qiskit\n",
        "!pip install pylatexenc"
      ],
      "execution_count": null,
      "outputs": []
    },
    {
      "cell_type": "code",
      "metadata": {
        "id": "REbS5YWVmD8p"
      },
      "source": [
        "from qiskit import QuantumCircuit, QuantumRegister, ClassicalRegister, Aer, execute\n",
        "from qiskit.circuit import Gate\n",
        "from qiskit.extensions import Initialize\n",
        "# from qiskit_textbook.tools import random_state, array_to_latex\n",
        "from math import pi\n",
        "import pylatexenc\n",
        "%matplotlib inline"
      ],
      "execution_count": null,
      "outputs": []
    },
    {
      "cell_type": "markdown",
      "metadata": {
        "id": "-plUMwPCmD8z"
      },
      "source": [
        "We create a quantum circuit with 3 qubits and 2 classical registers. The classical registers will store the results of Alice's Bell measurement and will determine conditionnal gates on Bob's qubit."
      ]
    },
    {
      "cell_type": "code",
      "metadata": {
        "id": "KjvXwUE-mD80"
      },
      "source": [
        "qr = ...\n",
        "crz = ...\n",
        "crx = ..."
      ],
      "execution_count": null,
      "outputs": []
    },
    {
      "cell_type": "markdown",
      "metadata": {
        "id": "xHnJ1CJVmD86"
      },
      "source": [
        "We first initialize the mystery qubit in an arbitrary state to be teleported."
      ]
    },
    {
      "cell_type": "code",
      "metadata": {
        "id": "xi9U_flwmD87"
      },
      "source": [
        "def initialize_original_state(qc,psi):\n",
        "    qc.u3(...)"
      ],
      "execution_count": null,
      "outputs": []
    },
    {
      "cell_type": "markdown",
      "metadata": {
        "id": "ypJMG8_3mD9A"
      },
      "source": [
        "We create the Bell state between Alice's and Bob's qubits."
      ]
    },
    {
      "cell_type": "code",
      "metadata": {
        "id": "3ypHGHBdmD9B"
      },
      "source": [
        "def create_bell_state(qc, a, b):\n",
        "    ...\n",
        "    "
      ],
      "execution_count": null,
      "outputs": []
    },
    {
      "cell_type": "markdown",
      "metadata": {
        "id": "WfBu5ezLmD9J"
      },
      "source": [
        "Alice need's to perform a Bell measurement on the mystery-AliceEntangled pair of qubits."
      ]
    },
    {
      "cell_type": "code",
      "metadata": {
        "id": "u3-Y-6H2mD9K"
      },
      "source": [
        "def sender_bell_measurements(qc, psi, a):\n",
        "    ...\n",
        "    qc.measure(psi,0)\n",
        "    qc.measure(a,1)"
      ],
      "execution_count": null,
      "outputs": []
    },
    {
      "cell_type": "markdown",
      "metadata": {
        "id": "OUg32nz8mD9O"
      },
      "source": [
        "After Alice sends the result of her measurement to Bob, he needs to apply an X gate (Z gate) if the result was 1 on the first (second) bit."
      ]
    },
    {
      "cell_type": "code",
      "metadata": {
        "id": "RTuPAQ5xmD9P"
      },
      "source": [
        "def receiver_final(qc,a, crz, crx):\n",
        "    qc.x(a).c_if(crx, 1)\n",
        "    ..."
      ],
      "execution_count": null,
      "outputs": []
    },
    {
      "cell_type": "markdown",
      "metadata": {
        "id": "VM8hvAjvmD9U"
      },
      "source": [
        "Let's put everything together."
      ]
    },
    {
      "cell_type": "code",
      "metadata": {
        "id": "JCdZdfcTmD9V"
      },
      "source": [
        "circuit = QuantumCircuit(...)\n",
        "\n",
        "# initialize Alice's mystery state\n",
        "initialize_original_state(...)\n",
        "circuit.barrier()\n",
        "\n",
        "# create a bell state that Alice and Bob will share\n",
        "create_bell_state(...)\n",
        "circuit.barrier()\n",
        "\n",
        "# alice runs a CNOT, then a Hadamard, then measures her 2 qubits\n",
        "sender_bell_measurements(...)\n",
        "circuit.barrier()\n",
        "\n",
        "# Bob applies CX and/or CZ based on Alice's results\n",
        "receiver_final(circuit, 2, crz, crx)\n",
        "circuit.barrier()\n",
        "circuit.draw(output='mpl')"
      ],
      "execution_count": null,
      "outputs": []
    },
    {
      "cell_type": "markdown",
      "metadata": {
        "id": "_oOjZwdPmD9a"
      },
      "source": [
        "We now simulate this!"
      ]
    },
    {
      "cell_type": "code",
      "metadata": {
        "id": "H7dV9av0mD9b"
      },
      "source": [
        "simulator = Aer.get_backend('qasm_simulator')\n",
        "result = execute(circuit, backend = simulator, shots = 1024).result()\n",
        "counts = result.get_counts()\n",
        "from qiskit.tools.visualization import plot_histogram\n",
        "plot_histogram(counts)"
      ],
      "execution_count": null,
      "outputs": []
    },
    {
      "cell_type": "markdown",
      "metadata": {
        "id": "KsojRbXAmD9f"
      },
      "source": [
        "We see that q3 and q2 are always the same for all the possible outcomes. Results with q3, q2 == 00 (11) are all equi-probable. The q1 and q0 results covers are 4 possibilties with equal probabilities. This represents the fact that the two bits that Alice gets from the Bell measurement and that she needs to send to Bob are random."
      ]
    },
    {
      "cell_type": "code",
      "metadata": {
        "id": "4Mm8zBcHmD9g"
      },
      "source": [
        "cr_result = ClassicalRegister(1)\n",
        "\n",
        "#add the new register to the circuit\n",
        "...\n",
        "\n",
        "# measure the new register\n",
        "...\n",
        "\n",
        "# draw the new circuit\n",
        "circuit.draw(output='mpl')"
      ],
      "execution_count": null,
      "outputs": []
    },
    {
      "cell_type": "code",
      "metadata": {
        "id": "7z9BxeNbrJWa"
      },
      "source": [
        "simulator = Aer.get_backend('qasm_simulator')\n",
        "result = execute(circuit, backend = simulator, shots = 1024).result()\n",
        "counts = result.get_counts()\n",
        "plot_histogram(counts)"
      ],
      "execution_count": null,
      "outputs": []
    }
  ]
}