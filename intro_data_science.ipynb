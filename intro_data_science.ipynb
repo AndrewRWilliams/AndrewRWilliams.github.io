{
  "nbformat": 4,
  "nbformat_minor": 0,
  "metadata": {
    "colab": {
      "name": "intro_data_science.ipynb",
      "provenance": [],
      "collapsed_sections": [],
      "include_colab_link": true
    },
    "kernelspec": {
      "name": "python3",
      "display_name": "Python 3"
    }
  },
  "cells": [
    {
      "cell_type": "markdown",
      "metadata": {
        "id": "view-in-github",
        "colab_type": "text"
      },
      "source": [
        "<a href=\"https://colab.research.google.com/github/AndrewRWilliams/AndrewRWilliams.github.io/blob/master/intro_data_science.ipynb\" target=\"_parent\"><img src=\"https://colab.research.google.com/assets/colab-badge.svg\" alt=\"Open In Colab\"/></a>"
      ]
    },
    {
      "cell_type": "markdown",
      "metadata": {
        "id": "VY48mAXCuRa-"
      },
      "source": [
        "# Introduction to Python\n",
        "\n",
        "Python is a powerful high-level interpreted language."
      ]
    },
    {
      "cell_type": "markdown",
      "metadata": {
        "id": "qgtLgu0-uplS"
      },
      "source": [
        "## Variables"
      ]
    },
    {
      "cell_type": "markdown",
      "metadata": {
        "id": "aJ0yODE9dpV6"
      },
      "source": [
        "Integers"
      ]
    },
    {
      "cell_type": "code",
      "metadata": {
        "id": "EJ4tZ5gYdrOv",
        "outputId": "30e114da-2d84-4adb-8b89-8057e2448426",
        "colab": {
          "base_uri": "https://localhost:8080/",
          "height": 35
        }
      },
      "source": [
        "a = 1\n",
        "b = 3\n",
        "print(\"Sum, difference, division:\", a + b, a - b, a // b)"
      ],
      "execution_count": null,
      "outputs": [
        {
          "output_type": "stream",
          "text": [
            "Sum, difference, division: 4 -2 0\n"
          ],
          "name": "stdout"
        }
      ]
    },
    {
      "cell_type": "markdown",
      "metadata": {
        "id": "ZPpnUzuudus2"
      },
      "source": [
        "Floting point numbers"
      ]
    },
    {
      "cell_type": "code",
      "metadata": {
        "id": "oRM7cXildxrf",
        "outputId": "5de6857f-70a3-438a-b929-1022481debe4",
        "colab": {
          "base_uri": "https://localhost:8080/",
          "height": 35
        }
      },
      "source": [
        "print(\"Floating point division:\", 1.0 / 2.0)"
      ],
      "execution_count": null,
      "outputs": [
        {
          "output_type": "stream",
          "text": [
            "Floating point division: 0.5\n"
          ],
          "name": "stdout"
        }
      ]
    },
    {
      "cell_type": "markdown",
      "metadata": {
        "id": "Q6IzYW72d2Na"
      },
      "source": [
        "Complex numbers"
      ]
    },
    {
      "cell_type": "code",
      "metadata": {
        "id": "3ooBQ-HAd4R-",
        "outputId": "959551ab-19d0-4a70-c1d6-e9c817a3d97d",
        "colab": {
          "base_uri": "https://localhost:8080/",
          "height": 35
        }
      },
      "source": [
        "print(\"Complex numbers:\", 1.0 + 1.0j)"
      ],
      "execution_count": null,
      "outputs": [
        {
          "output_type": "stream",
          "text": [
            "Complex numbers: (1+1j)\n"
          ],
          "name": "stdout"
        }
      ]
    },
    {
      "cell_type": "markdown",
      "metadata": {
        "id": "aRtsNkxLd7AB"
      },
      "source": [
        "Booleans"
      ]
    },
    {
      "cell_type": "code",
      "metadata": {
        "id": "mzvtZ2RceARU",
        "outputId": "d152c029-d508-415b-ed0f-810284f10772",
        "colab": {
          "base_uri": "https://localhost:8080/",
          "height": 35
        }
      },
      "source": [
        "a = True\n",
        "b = False\n",
        "print(\"Boolean operations:\", a or b, a and b, not a)"
      ],
      "execution_count": null,
      "outputs": [
        {
          "output_type": "stream",
          "text": [
            "Boolean operations: True False False\n"
          ],
          "name": "stdout"
        }
      ]
    },
    {
      "cell_type": "markdown",
      "metadata": {
        "id": "uVzLWAp7eCch"
      },
      "source": [
        "Strings"
      ]
    },
    {
      "cell_type": "code",
      "metadata": {
        "id": "jx9zZkzSeHH1",
        "outputId": "2b891d3a-9bd5-48e6-f1ca-67983c519823",
        "colab": {
          "base_uri": "https://localhost:8080/",
          "height": 35
        }
      },
      "source": [
        "s = \"n\"\n",
        "print(\"String:\", a)"
      ],
      "execution_count": null,
      "outputs": [
        {
          "output_type": "stream",
          "text": [
            "String: This is a string too\n"
          ],
          "name": "stdout"
        }
      ]
    },
    {
      "cell_type": "markdown",
      "metadata": {
        "id": "kgTGxeOFeLd1"
      },
      "source": [
        "Single quotes can also be used"
      ]
    },
    {
      "cell_type": "code",
      "metadata": {
        "id": "EkSoAMuJeIlX"
      },
      "source": [
        "a = 'This is a string too'"
      ],
      "execution_count": null,
      "outputs": []
    },
    {
      "cell_type": "markdown",
      "metadata": {
        "id": "IvlWLUGLePla"
      },
      "source": [
        "We can split long strings like this"
      ]
    },
    {
      "cell_type": "code",
      "metadata": {
        "id": "Kv_M49fpeS0E",
        "outputId": "146c3bae-9107-4581-f240-e5ce96c66c26",
        "colab": {
          "base_uri": "https://localhost:8080/",
          "height": 35
        }
      },
      "source": [
        "a = (\"Very very very \"\n",
        "     \"long long long \"\n",
        "     \"string in Python\"\n",
        "    )\n",
        "a"
      ],
      "execution_count": null,
      "outputs": [
        {
          "output_type": "execute_result",
          "data": {
            "text/plain": [
              "'Very very very long long long string in Python'"
            ]
          },
          "metadata": {
            "tags": []
          },
          "execution_count": 9
        }
      ]
    },
    {
      "cell_type": "markdown",
      "metadata": {
        "id": "-_UfrpwQeXi4"
      },
      "source": [
        "Or use multiline string"
      ]
    },
    {
      "cell_type": "code",
      "metadata": {
        "id": "uAMadNw5eZQ7",
        "outputId": "1991266b-1979-4ffa-98be-aaf743a2f493",
        "colab": {
          "base_uri": "https://localhost:8080/",
          "height": 35
        }
      },
      "source": [
        "a = \"\"\"this\n",
        "is\n",
        "multiline \n",
        "string\"\"\"\n",
        "a"
      ],
      "execution_count": null,
      "outputs": [
        {
          "output_type": "execute_result",
          "data": {
            "text/plain": [
              "'this\\nis\\nmultiline \\nstring'"
            ]
          },
          "metadata": {
            "tags": []
          },
          "execution_count": 10
        }
      ]
    },
    {
      "cell_type": "markdown",
      "metadata": {
        "id": "OJXyqzJ_ehNm"
      },
      "source": [
        "String concatenation"
      ]
    },
    {
      "cell_type": "code",
      "metadata": {
        "id": "wxNX3yCOejzb",
        "outputId": "2edb0b30-bcd0-43f5-9eef-06dd27060055",
        "colab": {
          "base_uri": "https://localhost:8080/",
          "height": 35
        }
      },
      "source": [
        "\"str\" + \"ing\""
      ],
      "execution_count": null,
      "outputs": [
        {
          "output_type": "execute_result",
          "data": {
            "text/plain": [
              "'string'"
            ]
          },
          "metadata": {
            "tags": []
          },
          "execution_count": 17
        }
      ]
    },
    {
      "cell_type": "markdown",
      "metadata": {
        "id": "gyJYt_dJepTs"
      },
      "source": [
        "Some of useful string methods:"
      ]
    },
    {
      "cell_type": "code",
      "metadata": {
        "id": "TfkggKXletFA",
        "outputId": "eb771b12-23b6-4152-822e-d575d401d90e",
        "colab": {
          "base_uri": "https://localhost:8080/",
          "height": 1000
        }
      },
      "source": [
        "a = \"\"\n",
        "dir(a)"
      ],
      "execution_count": null,
      "outputs": [
        {
          "output_type": "execute_result",
          "data": {
            "text/plain": [
              "['__add__',\n",
              " '__class__',\n",
              " '__contains__',\n",
              " '__delattr__',\n",
              " '__dir__',\n",
              " '__doc__',\n",
              " '__eq__',\n",
              " '__format__',\n",
              " '__ge__',\n",
              " '__getattribute__',\n",
              " '__getitem__',\n",
              " '__getnewargs__',\n",
              " '__gt__',\n",
              " '__hash__',\n",
              " '__init__',\n",
              " '__init_subclass__',\n",
              " '__iter__',\n",
              " '__le__',\n",
              " '__len__',\n",
              " '__lt__',\n",
              " '__mod__',\n",
              " '__mul__',\n",
              " '__ne__',\n",
              " '__new__',\n",
              " '__reduce__',\n",
              " '__reduce_ex__',\n",
              " '__repr__',\n",
              " '__rmod__',\n",
              " '__rmul__',\n",
              " '__setattr__',\n",
              " '__sizeof__',\n",
              " '__str__',\n",
              " '__subclasshook__',\n",
              " 'capitalize',\n",
              " 'casefold',\n",
              " 'center',\n",
              " 'count',\n",
              " 'encode',\n",
              " 'endswith',\n",
              " 'expandtabs',\n",
              " 'find',\n",
              " 'format',\n",
              " 'format_map',\n",
              " 'index',\n",
              " 'isalnum',\n",
              " 'isalpha',\n",
              " 'isdecimal',\n",
              " 'isdigit',\n",
              " 'isidentifier',\n",
              " 'islower',\n",
              " 'isnumeric',\n",
              " 'isprintable',\n",
              " 'isspace',\n",
              " 'istitle',\n",
              " 'isupper',\n",
              " 'join',\n",
              " 'ljust',\n",
              " 'lower',\n",
              " 'lstrip',\n",
              " 'maketrans',\n",
              " 'partition',\n",
              " 'replace',\n",
              " 'rfind',\n",
              " 'rindex',\n",
              " 'rjust',\n",
              " 'rpartition',\n",
              " 'rsplit',\n",
              " 'rstrip',\n",
              " 'split',\n",
              " 'splitlines',\n",
              " 'startswith',\n",
              " 'strip',\n",
              " 'swapcase',\n",
              " 'title',\n",
              " 'translate',\n",
              " 'upper',\n",
              " 'zfill']"
            ]
          },
          "metadata": {
            "tags": []
          },
          "execution_count": 25
        }
      ]
    },
    {
      "cell_type": "markdown",
      "metadata": {
        "id": "vtQDPYB-fY7x"
      },
      "source": [
        "Try following methods: `.endswith`, `.join`, `.capitalize`"
      ]
    },
    {
      "cell_type": "markdown",
      "metadata": {
        "id": "rWnykIjkfhly"
      },
      "source": [
        "String formatting"
      ]
    },
    {
      "cell_type": "code",
      "metadata": {
        "id": "PToq0omNflP2",
        "outputId": "5327796c-81a3-4317-b5a2-855a08122f0e",
        "colab": {
          "base_uri": "https://localhost:8080/",
          "height": 35
        }
      },
      "source": [
        "\"This is a number {}, this is another number {}!\".format(10, 20)"
      ],
      "execution_count": null,
      "outputs": [
        {
          "output_type": "execute_result",
          "data": {
            "text/plain": [
              "'This is a number 10, this is another number 20!'"
            ]
          },
          "metadata": {
            "tags": []
          },
          "execution_count": 19
        }
      ]
    },
    {
      "cell_type": "markdown",
      "metadata": {
        "id": "WgYzAHHSf00K"
      },
      "source": [
        "You can specify how number is formatted"
      ]
    },
    {
      "cell_type": "code",
      "metadata": {
        "id": "zGGlXdZQuKnG",
        "outputId": "a96f7558-ade6-4746-c6e8-c8c4707e1833",
        "colab": {
          "base_uri": "https://localhost:8080/",
          "height": 35
        }
      },
      "source": [
        "\"This is pi {:0.2f}!\".format(3.1415)"
      ],
      "execution_count": null,
      "outputs": [
        {
          "output_type": "execute_result",
          "data": {
            "text/plain": [
              "'This is pi 3.14!'"
            ]
          },
          "metadata": {
            "tags": []
          },
          "execution_count": 20
        }
      ]
    },
    {
      "cell_type": "markdown",
      "metadata": {
        "id": "e2UqKCEDf4n9"
      },
      "source": [
        "Format strings look like this"
      ]
    },
    {
      "cell_type": "code",
      "metadata": {
        "id": "vao_Xk17f_BP",
        "outputId": "52e25c78-50b2-46c1-93a7-e152ff3ee5f1",
        "colab": {
          "base_uri": "https://localhost:8080/",
          "height": 35
        }
      },
      "source": [
        "f\"This is sum of 2 and 3: {2 + 3}\""
      ],
      "execution_count": null,
      "outputs": [
        {
          "output_type": "execute_result",
          "data": {
            "text/plain": [
              "'This is sum of 2 and 3: hello'"
            ]
          },
          "metadata": {
            "tags": []
          },
          "execution_count": 24
        }
      ]
    },
    {
      "cell_type": "markdown",
      "metadata": {
        "id": "swwHe1pLeVn0"
      },
      "source": [
        ""
      ]
    },
    {
      "cell_type": "markdown",
      "metadata": {
        "id": "yDBje-obvc9B"
      },
      "source": [
        "## Simple data structures: lists, maps, sets, tuples\n",
        "\n",
        "Lists are designed to store a number of ordered values."
      ]
    },
    {
      "cell_type": "markdown",
      "metadata": {
        "id": "qZp9Hx-9hIRC"
      },
      "source": [
        "### List"
      ]
    },
    {
      "cell_type": "code",
      "metadata": {
        "id": "iEO10YjSgEiP",
        "outputId": "6f53f0c0-e498-4bea-d2de-3f09e7918575",
        "colab": {
          "base_uri": "https://localhost:8080/",
          "height": 35
        }
      },
      "source": [
        "array = [1, 4, 2, 3, 8, 7, 6, 5]\n",
        "array"
      ],
      "execution_count": null,
      "outputs": [
        {
          "output_type": "execute_result",
          "data": {
            "text/plain": [
              "[1, 4, 2, 3, 8, 7, 6, 5]"
            ]
          },
          "metadata": {
            "tags": []
          },
          "execution_count": 26
        }
      ]
    },
    {
      "cell_type": "markdown",
      "metadata": {
        "id": "OafZcfQLgIik"
      },
      "source": [
        "Addressing list by index"
      ]
    },
    {
      "cell_type": "code",
      "metadata": {
        "id": "vTBtlmzlgQUN",
        "outputId": "d6062927-00e1-40ce-fad9-ecc09c418052",
        "colab": {
          "base_uri": "https://localhost:8080/",
          "height": 35
        }
      },
      "source": [
        "array[0]"
      ],
      "execution_count": null,
      "outputs": [
        {
          "output_type": "execute_result",
          "data": {
            "text/plain": [
              "1"
            ]
          },
          "metadata": {
            "tags": []
          },
          "execution_count": 27
        }
      ]
    },
    {
      "cell_type": "markdown",
      "metadata": {
        "id": "Sc-anm1NgS25"
      },
      "source": [
        "Slice is a sub-sequence of a list"
      ]
    },
    {
      "cell_type": "code",
      "metadata": {
        "id": "tBZ0HPHLgeDc",
        "outputId": "a1e3303d-7b54-46f1-df15-1d5aced8f88e",
        "colab": {
          "base_uri": "https://localhost:8080/",
          "height": 35
        }
      },
      "source": [
        "array[1:5]"
      ],
      "execution_count": null,
      "outputs": [
        {
          "output_type": "execute_result",
          "data": {
            "text/plain": [
              "[4, 2, 3, 8]"
            ]
          },
          "metadata": {
            "tags": []
          },
          "execution_count": 28
        }
      ]
    },
    {
      "cell_type": "markdown",
      "metadata": {
        "id": "Dgp-CaJigiXM"
      },
      "source": [
        "End-less slices take either prefix"
      ]
    },
    {
      "cell_type": "code",
      "metadata": {
        "id": "0FU3YcmKgmWG",
        "outputId": "1b53832f-9af2-4689-c4eb-e4114df67a61",
        "colab": {
          "base_uri": "https://localhost:8080/",
          "height": 35
        }
      },
      "source": [
        "array[:5]"
      ],
      "execution_count": null,
      "outputs": [
        {
          "output_type": "execute_result",
          "data": {
            "text/plain": [
              "[1, 4, 2, 3, 8]"
            ]
          },
          "metadata": {
            "tags": []
          },
          "execution_count": 29
        }
      ]
    },
    {
      "cell_type": "markdown",
      "metadata": {
        "id": "L3LzQHZugpJh"
      },
      "source": [
        "or suffix"
      ]
    },
    {
      "cell_type": "code",
      "metadata": {
        "id": "2ND4QRgggqbV",
        "outputId": "40d3f859-69a6-40ac-b5fe-86bde5ec33b8",
        "colab": {
          "base_uri": "https://localhost:8080/",
          "height": 35
        }
      },
      "source": [
        "array[5:]"
      ],
      "execution_count": null,
      "outputs": [
        {
          "output_type": "execute_result",
          "data": {
            "text/plain": [
              "[7, 6, 5]"
            ]
          },
          "metadata": {
            "tags": []
          },
          "execution_count": 30
        }
      ]
    },
    {
      "cell_type": "markdown",
      "metadata": {
        "id": "BJUoxAf5gugb"
      },
      "source": [
        "Third argument to the slice is the step size"
      ]
    },
    {
      "cell_type": "code",
      "metadata": {
        "id": "8AU5C2aZgxs-",
        "outputId": "91b8a016-d9bf-499e-b923-380c621280bb",
        "colab": {
          "base_uri": "https://localhost:8080/",
          "height": 35
        }
      },
      "source": [
        "[1, 4, 2, 3, 8, 7, 6, 5]\n",
        "array[2:7:2]"
      ],
      "execution_count": null,
      "outputs": [
        {
          "output_type": "execute_result",
          "data": {
            "text/plain": [
              "[2, 8, 6]"
            ]
          },
          "metadata": {
            "tags": []
          },
          "execution_count": 31
        }
      ]
    },
    {
      "cell_type": "markdown",
      "metadata": {
        "id": "UFoYM9Vtg33H"
      },
      "source": [
        "Lists may contain values of different types"
      ]
    },
    {
      "cell_type": "code",
      "metadata": {
        "id": "sgHBH0SAvcYB",
        "outputId": "f381b2e0-5ea4-4118-a3df-17246d62e91c",
        "colab": {
          "base_uri": "https://localhost:8080/",
          "height": 35
        }
      },
      "source": [
        "len([1, 1e-8, \"Hello\", [9, 8]])\n",
        "sum\n",
        "type"
      ],
      "execution_count": null,
      "outputs": [
        {
          "output_type": "execute_result",
          "data": {
            "text/plain": [
              "4"
            ]
          },
          "metadata": {
            "tags": []
          },
          "execution_count": 40
        }
      ]
    },
    {
      "cell_type": "markdown",
      "metadata": {
        "id": "SPP1Cyajwpfa"
      },
      "source": [
        "### Maps\n",
        "Maps (dictionaries) can store relations between pairs of values"
      ]
    },
    {
      "cell_type": "code",
      "metadata": {
        "id": "E9B-8IZ2hVJo",
        "outputId": "76a323c3-5b13-45e3-f68a-ea6519a5ac1e",
        "colab": {
          "base_uri": "https://localhost:8080/",
          "height": 35
        }
      },
      "source": [
        "m = {\"height\": 100., \n",
        "     \"width\": 20.,\n",
        "     \"depth\": 10.}\n",
        "m\n",
        "dict(height=100.)"
      ],
      "execution_count": null,
      "outputs": [
        {
          "output_type": "execute_result",
          "data": {
            "text/plain": [
              "{'height': 100.0}"
            ]
          },
          "metadata": {
            "tags": []
          },
          "execution_count": 42
        }
      ]
    },
    {
      "cell_type": "markdown",
      "metadata": {
        "id": "_sJCy0_chf3h"
      },
      "source": [
        "Retrieving value by key"
      ]
    },
    {
      "cell_type": "code",
      "metadata": {
        "id": "RyqblTcihk4i",
        "outputId": "256af6cf-8415-4932-a6dc-01bc0d193353",
        "colab": {
          "base_uri": "https://localhost:8080/",
          "height": 35
        }
      },
      "source": [
        "m[\"width\"]"
      ],
      "execution_count": null,
      "outputs": [
        {
          "output_type": "execute_result",
          "data": {
            "text/plain": [
              "20.0"
            ]
          },
          "metadata": {
            "tags": []
          },
          "execution_count": 43
        }
      ]
    },
    {
      "cell_type": "markdown",
      "metadata": {
        "id": "GaRxKo1qhmca"
      },
      "source": [
        "Checking that a map contains a key"
      ]
    },
    {
      "cell_type": "code",
      "metadata": {
        "id": "WqOa9VOZh1OA",
        "outputId": "c8401639-9370-4689-a04c-360a624e3b71",
        "colab": {
          "base_uri": "https://localhost:8080/",
          "height": 35
        }
      },
      "source": [
        "\"name\" in m"
      ],
      "execution_count": null,
      "outputs": [
        {
          "output_type": "execute_result",
          "data": {
            "text/plain": [
              "True"
            ]
          },
          "metadata": {
            "tags": []
          },
          "execution_count": 46
        }
      ]
    },
    {
      "cell_type": "markdown",
      "metadata": {
        "id": "s5Zeyapsh6Go"
      },
      "source": [
        "Add a new key-value pair"
      ]
    },
    {
      "cell_type": "code",
      "metadata": {
        "id": "O7iSJmrah-C1"
      },
      "source": [
        "m[\"name\"] = \"rectangle\""
      ],
      "execution_count": null,
      "outputs": []
    },
    {
      "cell_type": "markdown",
      "metadata": {
        "id": "ILJJI_GFiBOy"
      },
      "source": [
        "Or change existing value"
      ]
    },
    {
      "cell_type": "code",
      "metadata": {
        "id": "PMGZPVR3iDcN",
        "outputId": "8dc5e73c-6314-4938-9c84-94b8c0a881c5",
        "colab": {
          "base_uri": "https://localhost:8080/",
          "height": 35
        }
      },
      "source": [
        "m[\"name\"] = \"RECTANGLE\"\n",
        "m"
      ],
      "execution_count": null,
      "outputs": [
        {
          "output_type": "execute_result",
          "data": {
            "text/plain": [
              "{'depth': 10.0, 'height': 100.0, 'name': 'RECTANGLE', 'width': 20.0}"
            ]
          },
          "metadata": {
            "tags": []
          },
          "execution_count": 48
        }
      ]
    },
    {
      "cell_type": "markdown",
      "metadata": {
        "id": "0R5Wm0sFiFlp"
      },
      "source": [
        "Remove key/value"
      ]
    },
    {
      "cell_type": "code",
      "metadata": {
        "id": "-cMBVYYEiHNT",
        "outputId": "e0ad43da-afb2-41e9-8f7a-df78f8d4d228",
        "colab": {
          "base_uri": "https://localhost:8080/",
          "height": 35
        }
      },
      "source": [
        "m.pop(\"name\")"
      ],
      "execution_count": null,
      "outputs": [
        {
          "output_type": "execute_result",
          "data": {
            "text/plain": [
              "'RECTANGLE'"
            ]
          },
          "metadata": {
            "tags": []
          },
          "execution_count": 49
        }
      ]
    },
    {
      "cell_type": "code",
      "metadata": {
        "id": "bhEWTQ1nIN3w",
        "outputId": "6f9a4875-b25d-4737-e880-3c5dbb4f81e2",
        "colab": {
          "base_uri": "https://localhost:8080/",
          "height": 35
        }
      },
      "source": [
        "m"
      ],
      "execution_count": null,
      "outputs": [
        {
          "output_type": "execute_result",
          "data": {
            "text/plain": [
              "{'depth': 10.0, 'height': 100.0, 'width': 20.0}"
            ]
          },
          "metadata": {
            "tags": []
          },
          "execution_count": 50
        }
      ]
    },
    {
      "cell_type": "markdown",
      "metadata": {
        "id": "kdYzR2X0zWNE"
      },
      "source": [
        "### Tuples\n",
        "Tuples are similar to lists but are immutable -- they cannot be altered."
      ]
    },
    {
      "cell_type": "code",
      "metadata": {
        "id": "yJSXyvBqzBnc",
        "outputId": "fd357cc1-50ec-4aa6-a1c1-b1105d0446ff",
        "colab": {
          "base_uri": "https://localhost:8080/",
          "height": 222
        }
      },
      "source": [
        "my_array = [1, 2, 3]\n",
        "my_tuple = (1, 2, 3)\n",
        "\n",
        "# This is OK\n",
        "my_array[0] = 100\n",
        "\n",
        "# This will raise an exception\n",
        "my_tuple[0] = 100"
      ],
      "execution_count": null,
      "outputs": [
        {
          "output_type": "error",
          "ename": "TypeError",
          "evalue": "ignored",
          "traceback": [
            "\u001b[0;31m---------------------------------------------------------------------------\u001b[0m",
            "\u001b[0;31mTypeError\u001b[0m                                 Traceback (most recent call last)",
            "\u001b[0;32m<ipython-input-51-24fb9dc85916>\u001b[0m in \u001b[0;36m<module>\u001b[0;34m()\u001b[0m\n\u001b[1;32m      6\u001b[0m \u001b[0;34m\u001b[0m\u001b[0m\n\u001b[1;32m      7\u001b[0m \u001b[0;31m# This will raise an exception\u001b[0m\u001b[0;34m\u001b[0m\u001b[0;34m\u001b[0m\u001b[0;34m\u001b[0m\u001b[0m\n\u001b[0;32m----> 8\u001b[0;31m \u001b[0mmy_tuple\u001b[0m\u001b[0;34m[\u001b[0m\u001b[0;36m0\u001b[0m\u001b[0;34m]\u001b[0m \u001b[0;34m=\u001b[0m \u001b[0;36m100\u001b[0m\u001b[0;34m\u001b[0m\u001b[0;34m\u001b[0m\u001b[0m\n\u001b[0m",
            "\u001b[0;31mTypeError\u001b[0m: 'tuple' object does not support item assignment"
          ]
        }
      ]
    },
    {
      "cell_type": "code",
      "metadata": {
        "id": "wmRzWy-rIpyG",
        "outputId": "99c1672e-2c05-4e5b-99de-e5a4411bd5f2",
        "colab": {
          "base_uri": "https://localhost:8080/",
          "height": 35
        }
      },
      "source": [
        "a = (1, 2)\n",
        "b = (3, 4)\n",
        "(1, 2) + (3, 4)"
      ],
      "execution_count": null,
      "outputs": [
        {
          "output_type": "execute_result",
          "data": {
            "text/plain": [
              "(1, 2, 3, 4)"
            ]
          },
          "metadata": {
            "tags": []
          },
          "execution_count": 52
        }
      ]
    },
    {
      "cell_type": "markdown",
      "metadata": {
        "id": "IBeeqq6u1EP9"
      },
      "source": [
        "### Sets\n",
        "Sets are unordered collections that support fast search, insertion, deletion and union."
      ]
    },
    {
      "cell_type": "code",
      "metadata": {
        "id": "I1aeG-bFzuL1",
        "outputId": "fab8eaa0-8216-4736-908c-bbd3d2273581",
        "colab": {
          "base_uri": "https://localhost:8080/",
          "height": 35
        }
      },
      "source": [
        "animals = {\"cat\", \"dog\", \"elephant\"}\n",
        "animals"
      ],
      "execution_count": null,
      "outputs": [
        {
          "output_type": "execute_result",
          "data": {
            "text/plain": [
              "{'cat', 'dog', 'elephant'}"
            ]
          },
          "metadata": {
            "tags": []
          },
          "execution_count": 53
        }
      ]
    },
    {
      "cell_type": "markdown",
      "metadata": {
        "id": "IKTFuoVCiU4U"
      },
      "source": [
        "Check that element is in set"
      ]
    },
    {
      "cell_type": "code",
      "metadata": {
        "id": "M2SRdoJ9iZkt",
        "outputId": "2e4e7095-bde8-4efa-a5c3-3dbda04e2a3e",
        "colab": {
          "base_uri": "https://localhost:8080/",
          "height": 35
        }
      },
      "source": [
        "\"cat\" in animals"
      ],
      "execution_count": null,
      "outputs": [
        {
          "output_type": "execute_result",
          "data": {
            "text/plain": [
              "True"
            ]
          },
          "metadata": {
            "tags": []
          },
          "execution_count": 55
        }
      ]
    },
    {
      "cell_type": "markdown",
      "metadata": {
        "id": "IMPig3GCidQP"
      },
      "source": [
        "Perform set operations: union, intersection, etc"
      ]
    },
    {
      "cell_type": "code",
      "metadata": {
        "id": "zX06oDPPihJY",
        "outputId": "028d1384-2f72-47f4-8116-3acfd3e27006",
        "colab": {
          "base_uri": "https://localhost:8080/",
          "height": 35
        }
      },
      "source": [
        "animals.union({\"zebra\", \"llama\"})"
      ],
      "execution_count": null,
      "outputs": [
        {
          "output_type": "execute_result",
          "data": {
            "text/plain": [
              "{'cat', 'dog', 'elephant', 'llama', 'zebra'}"
            ]
          },
          "metadata": {
            "tags": []
          },
          "execution_count": 56
        }
      ]
    },
    {
      "cell_type": "markdown",
      "metadata": {
        "id": "do27WDEZ1rKc"
      },
      "source": [
        "## Control flow"
      ]
    },
    {
      "cell_type": "markdown",
      "metadata": {
        "id": "ZRLfl1pTkw8w"
      },
      "source": [
        "Branching"
      ]
    },
    {
      "cell_type": "code",
      "metadata": {
        "id": "6RNIP5pmk0a9",
        "outputId": "b16ddcc6-bd8d-4da1-8e70-e2298d5bb85e",
        "colab": {
          "base_uri": "https://localhost:8080/",
          "height": 52
        }
      },
      "source": [
        "a = int(input())\n",
        "if a > 6:\n",
        "    print(\"a is greater than 6\")\n",
        "elif a < 3:\n",
        "    print(\"a is less than 3\")\n",
        "else:\n",
        "    print(\"a is between 3 and 6\")"
      ],
      "execution_count": null,
      "outputs": [
        {
          "output_type": "stream",
          "text": [
            "5\n",
            "a is between 3 and 6\n"
          ],
          "name": "stdout"
        }
      ]
    },
    {
      "cell_type": "markdown",
      "metadata": {
        "id": "iF11czrvk9Ve"
      },
      "source": [
        "Loops"
      ]
    },
    {
      "cell_type": "code",
      "metadata": {
        "id": "0FKPTPIklBuR",
        "outputId": "b14bc699-d13f-4ab2-f759-26fa7a7c998e",
        "colab": {
          "base_uri": "https://localhost:8080/",
          "height": 52
        }
      },
      "source": [
        "for i, j in enumerate([\"cat\", \"dog\"]):\n",
        "    print(i, j)"
      ],
      "execution_count": null,
      "outputs": [
        {
          "output_type": "stream",
          "text": [
            "0 cat\n",
            "1 dog\n"
          ],
          "name": "stdout"
        }
      ]
    },
    {
      "cell_type": "markdown",
      "metadata": {
        "id": "WC3CQ6LOlE2K"
      },
      "source": [
        "Useful functions for looping:\n",
        "- `range`\n",
        "- `enumerate`\n",
        "- `zip`"
      ]
    },
    {
      "cell_type": "markdown",
      "metadata": {
        "id": "DEXi6o3KlSTw"
      },
      "source": [
        "Iterating a dictionary"
      ]
    },
    {
      "cell_type": "code",
      "metadata": {
        "id": "l4j34y5klVQD",
        "outputId": "e4ff2ece-b182-49ea-dbc5-62d78f6935a2",
        "colab": {
          "base_uri": "https://localhost:8080/",
          "height": 106
        }
      },
      "source": [
        "for k, v in m.items():\n",
        "    print(k, v)\n",
        "    if k == \"width\":\n",
        "        continue\n",
        "    # long processing\n",
        "    print(\"again\", v)"
      ],
      "execution_count": null,
      "outputs": [
        {
          "output_type": "stream",
          "text": [
            "height 100.0\n",
            "again 100.0\n",
            "width 20.0\n",
            "depth 10.0\n",
            "again 10.0\n"
          ],
          "name": "stdout"
        }
      ]
    },
    {
      "cell_type": "markdown",
      "metadata": {
        "id": "_82guvm2lb4Y"
      },
      "source": [
        "While loop\n",
        "\n",
        "*It is very rare that you need to use while loop. Following example is very not pythonic!*"
      ]
    },
    {
      "cell_type": "code",
      "metadata": {
        "id": "_xAlRHDNlcsV",
        "outputId": "38b05305-76ed-4012-f061-dcdad6d09686",
        "colab": {
          "base_uri": "https://localhost:8080/",
          "height": 35
        }
      },
      "source": [
        "stop = False\n",
        "i = 10\n",
        "while not stop:\n",
        "    i += 1\n",
        "    if i % 10 == 0:\n",
        "        stop = True\n",
        "        \n",
        "print(i)"
      ],
      "execution_count": null,
      "outputs": [
        {
          "output_type": "stream",
          "text": [
            "20\n"
          ],
          "name": "stdout"
        }
      ]
    },
    {
      "cell_type": "markdown",
      "metadata": {
        "id": "1XOUcES3U_7g"
      },
      "source": [
        "## List comprehensions"
      ]
    },
    {
      "cell_type": "code",
      "metadata": {
        "id": "2ii1YsF1VFQt",
        "outputId": "997b736e-6747-4904-d83c-737f86a08f2c",
        "colab": {
          "base_uri": "https://localhost:8080/",
          "height": 35
        }
      },
      "source": [
        "[i + 1 for i in [1, 2, 3] if i != 2]"
      ],
      "execution_count": null,
      "outputs": [
        {
          "output_type": "execute_result",
          "data": {
            "text/plain": [
              "[2, 4]"
            ]
          },
          "metadata": {
            "tags": []
          },
          "execution_count": 69
        }
      ]
    },
    {
      "cell_type": "markdown",
      "metadata": {
        "id": "sP1oejrKVUIo"
      },
      "source": [
        "It works with dictionaries too"
      ]
    },
    {
      "cell_type": "code",
      "metadata": {
        "id": "adCDsD7CVOXi",
        "outputId": "acfd2042-c983-43a7-8c4e-a17759c7d741",
        "colab": {
          "base_uri": "https://localhost:8080/",
          "height": 35
        }
      },
      "source": [
        "{i: i + 1 for i in [1, 2, 3]}"
      ],
      "execution_count": null,
      "outputs": [
        {
          "output_type": "execute_result",
          "data": {
            "text/plain": [
              "{1: 2, 2: 3, 3: 4}"
            ]
          },
          "metadata": {
            "tags": []
          },
          "execution_count": 70
        }
      ]
    },
    {
      "cell_type": "markdown",
      "metadata": {
        "id": "Hr1sBDl6NBCt"
      },
      "source": [
        "## Functions"
      ]
    },
    {
      "cell_type": "markdown",
      "metadata": {
        "id": "GnLRc_CKxFsf"
      },
      "source": [
        "Defining functions"
      ]
    },
    {
      "cell_type": "code",
      "metadata": {
        "id": "TZJF3UL2M7fg",
        "outputId": "b234b772-6c81-458a-b936-2870ae1c8ffa",
        "colab": {
          "base_uri": "https://localhost:8080/",
          "height": 35
        }
      },
      "source": [
        "def is_odd(a):\n",
        "    return a % 2 == 0\n",
        "\n",
        "is_odd(2)"
      ],
      "execution_count": null,
      "outputs": [
        {
          "output_type": "execute_result",
          "data": {
            "text/plain": [
              "True"
            ]
          },
          "metadata": {
            "tags": []
          },
          "execution_count": 71
        }
      ]
    },
    {
      "cell_type": "markdown",
      "metadata": {
        "id": "lPhb-mFxxNNp"
      },
      "source": [
        "Functions can be defined inside functions"
      ]
    },
    {
      "cell_type": "code",
      "metadata": {
        "id": "VYbAIDuBxRne",
        "outputId": "619c0466-e8cb-4a8e-f22e-db1c5afed6d2",
        "colab": {
          "base_uri": "https://localhost:8080/",
          "height": 222
        }
      },
      "source": [
        "def is_odd(a):\n",
        "    \n",
        "    def is_divisible(number, base):\n",
        "        return number % base == 0\n",
        "    \n",
        "    return is_divisible(a, 2)\n",
        "\n",
        "is_odd(2)\n",
        "is_divisible(6, 5)"
      ],
      "execution_count": null,
      "outputs": [
        {
          "output_type": "error",
          "ename": "NameError",
          "evalue": "ignored",
          "traceback": [
            "\u001b[0;31m---------------------------------------------------------------------------\u001b[0m",
            "\u001b[0;31mNameError\u001b[0m                                 Traceback (most recent call last)",
            "\u001b[0;32m<ipython-input-73-4e0b9da6cf22>\u001b[0m in \u001b[0;36m<module>\u001b[0;34m()\u001b[0m\n\u001b[1;32m      7\u001b[0m \u001b[0;34m\u001b[0m\u001b[0m\n\u001b[1;32m      8\u001b[0m \u001b[0mis_odd\u001b[0m\u001b[0;34m(\u001b[0m\u001b[0;36m2\u001b[0m\u001b[0;34m)\u001b[0m\u001b[0;34m\u001b[0m\u001b[0;34m\u001b[0m\u001b[0m\n\u001b[0;32m----> 9\u001b[0;31m \u001b[0mis_divisible\u001b[0m\u001b[0;34m(\u001b[0m\u001b[0;36m6\u001b[0m\u001b[0;34m,\u001b[0m \u001b[0;36m5\u001b[0m\u001b[0;34m)\u001b[0m\u001b[0;34m\u001b[0m\u001b[0;34m\u001b[0m\u001b[0m\n\u001b[0m",
            "\u001b[0;31mNameError\u001b[0m: name 'is_divisible' is not defined"
          ]
        }
      ]
    },
    {
      "cell_type": "markdown",
      "metadata": {
        "id": "Hoh9vryhxckA"
      },
      "source": [
        "You can provide default arguments."
      ]
    },
    {
      "cell_type": "code",
      "metadata": {
        "id": "SbjDzfrVfmF6",
        "outputId": "ba9c5654-c079-48a9-ef24-deb5f7c18076",
        "colab": {
          "base_uri": "https://localhost:8080/",
          "height": 35
        }
      },
      "source": [
        "def add_or_subtract(first, second, operation=\"sum\"):\n",
        "    if operation == \"sum\":\n",
        "        return first + second\n",
        "    elif operation == \"sub\":\n",
        "        return first - second\n",
        "    else:\n",
        "        print(\"Operation not permitted\")\n",
        "        \n",
        "add_or_subtract(first=3, second=4, operation=\"sum\")"
      ],
      "execution_count": null,
      "outputs": [
        {
          "output_type": "execute_result",
          "data": {
            "text/plain": [
              "7"
            ]
          },
          "metadata": {
            "tags": []
          },
          "execution_count": 81
        }
      ]
    },
    {
      "cell_type": "markdown",
      "metadata": {
        "id": "1Lp6YB6fxqpP"
      },
      "source": [
        "Varargs: variable size arguments"
      ]
    },
    {
      "cell_type": "code",
      "metadata": {
        "id": "181garp6xsKA",
        "outputId": "d86d3839-c988-490b-e3e4-5647d36572ca",
        "colab": {
          "base_uri": "https://localhost:8080/",
          "height": 35
        }
      },
      "source": [
        "def sum_all(*args):\n",
        "    # args is a list of arguments\n",
        "    result = 0\n",
        "    for arg in args:\n",
        "        result += arg\n",
        "    return result\n",
        "\n",
        "# Call vararg function\n",
        "print(\"Sum of all integers up to 10 =\", sum_all(1, 2, 3, 4, 5, 6, 7, 8, 9))"
      ],
      "execution_count": null,
      "outputs": [
        {
          "output_type": "stream",
          "text": [
            "Sum of all integers up to 10 = 45\n"
          ],
          "name": "stdout"
        }
      ]
    },
    {
      "cell_type": "markdown",
      "metadata": {
        "id": "dmKKnwyox7Ai"
      },
      "source": [
        "Keyword arguments"
      ]
    },
    {
      "cell_type": "code",
      "metadata": {
        "id": "WJPliTlnx92u",
        "outputId": "459ecb50-2fb4-40b2-e6ac-9e44f668ea66",
        "colab": {
          "base_uri": "https://localhost:8080/",
          "height": 52
        }
      },
      "source": [
        "def print_pairs(**kwargs):\n",
        "    # kwargs is a map\n",
        "    for k, v in kwargs.items():\n",
        "        print(k, v)\n",
        "        \n",
        "print_pairs(a=1, b=2)"
      ],
      "execution_count": null,
      "outputs": [
        {
          "output_type": "stream",
          "text": [
            "a 1\n",
            "b 2\n"
          ],
          "name": "stdout"
        }
      ]
    },
    {
      "cell_type": "markdown",
      "metadata": {
        "id": "51bg23Fmx-6b"
      },
      "source": [
        "Keyword only arguments"
      ]
    },
    {
      "cell_type": "code",
      "metadata": {
        "id": "RqZwL6WHyHPN",
        "outputId": "3007ac86-4d4a-4455-d44e-493e6e60eb9f",
        "colab": {
          "base_uri": "https://localhost:8080/",
          "height": 222
        }
      },
      "source": [
        "def create_car(*, speed, size):\n",
        "    print(\"Car created with speed\", speed, \"and size\", size)\n",
        "    \n",
        "create_car(speed=9, size=3)"
      ],
      "execution_count": null,
      "outputs": [
        {
          "output_type": "error",
          "ename": "TypeError",
          "evalue": "ignored",
          "traceback": [
            "\u001b[0;31m---------------------------------------------------------------------------\u001b[0m",
            "\u001b[0;31mTypeError\u001b[0m                                 Traceback (most recent call last)",
            "\u001b[0;32m<ipython-input-84-64b4f1a2cfbe>\u001b[0m in \u001b[0;36m<module>\u001b[0;34m()\u001b[0m\n\u001b[1;32m      2\u001b[0m     \u001b[0mprint\u001b[0m\u001b[0;34m(\u001b[0m\u001b[0;34m\"Car created with speed\"\u001b[0m\u001b[0;34m,\u001b[0m \u001b[0mspeed\u001b[0m\u001b[0;34m,\u001b[0m \u001b[0;34m\"and size\"\u001b[0m\u001b[0;34m,\u001b[0m \u001b[0msize\u001b[0m\u001b[0;34m)\u001b[0m\u001b[0;34m\u001b[0m\u001b[0;34m\u001b[0m\u001b[0m\n\u001b[1;32m      3\u001b[0m \u001b[0;34m\u001b[0m\u001b[0m\n\u001b[0;32m----> 4\u001b[0;31m \u001b[0mcreate_car\u001b[0m\u001b[0;34m(\u001b[0m\u001b[0;36m9\u001b[0m\u001b[0;34m,\u001b[0m \u001b[0msize\u001b[0m\u001b[0;34m=\u001b[0m\u001b[0;36m3\u001b[0m\u001b[0;34m)\u001b[0m\u001b[0;34m\u001b[0m\u001b[0;34m\u001b[0m\u001b[0m\n\u001b[0m",
            "\u001b[0;31mTypeError\u001b[0m: create_car() takes 0 positional arguments but 1 positional argument (and 1 keyword-only argument) were given"
          ]
        }
      ]
    },
    {
      "cell_type": "markdown",
      "metadata": {
        "id": "k3Y-h7EAyYhS"
      },
      "source": [
        "Functions as parameters\n",
        "\n",
        "It is possible to pass a function as an argument, operation here is assumed to be a function"
      ]
    },
    {
      "cell_type": "code",
      "metadata": {
        "id": "b_JDJT_6mrqu"
      },
      "source": [
        "def reduce(array, operation):\n",
        "    result = 0\n",
        "    for k, v in enumerate(array):\n",
        "        if k == 0:\n",
        "            result = v\n",
        "        else:\n",
        "            result = operation(v, result)\n",
        "  \n",
        "    return result"
      ],
      "execution_count": null,
      "outputs": []
    },
    {
      "cell_type": "markdown",
      "metadata": {
        "id": "X43dSGaQzHye"
      },
      "source": [
        "Apply the function with another function `add_or_subtract`\n"
      ]
    },
    {
      "cell_type": "code",
      "metadata": {
        "id": "6rE5TSZRzFWW",
        "outputId": "b17d0650-ed4e-496f-8d68-dc3b01578d9a",
        "colab": {
          "base_uri": "https://localhost:8080/",
          "height": 70
        }
      },
      "source": [
        "one_to_nine = [1, 2, 3, 4, 5, 6, 7, 8, 9]\n",
        "print(one_to_nine)\n",
        "\n",
        "print(\"Sum of the array\")\n",
        "#The operation is infered from the default parameter of add_or_subtract\n",
        "reduce(one_to_nine, add_or_subtract)"
      ],
      "execution_count": null,
      "outputs": [
        {
          "output_type": "stream",
          "text": [
            "[1, 2, 3, 4, 5, 6, 7, 8, 9]\n",
            "Sum of the array\n"
          ],
          "name": "stdout"
        },
        {
          "output_type": "execute_result",
          "data": {
            "text/plain": [
              "45"
            ]
          },
          "metadata": {
            "tags": []
          },
          "execution_count": 86
        }
      ]
    },
    {
      "cell_type": "markdown",
      "metadata": {
        "id": "8tiErQ4PzdFH"
      },
      "source": [
        "Lambdas\n",
        "\n",
        "A function can also be defined anonymously"
      ]
    },
    {
      "cell_type": "code",
      "metadata": {
        "id": "a8bWni3hzadd",
        "outputId": "c1074990-d135-4fa5-e556-efbf388f5805",
        "colab": {
          "base_uri": "https://localhost:8080/",
          "height": 52
        }
      },
      "source": [
        "print(\"Product of the array\")\n",
        "reduce(one_to_nine, lambda x, y : x * y)\n",
        "\n",
        "\n",
        "prod(5, 6)"
      ],
      "execution_count": null,
      "outputs": [
        {
          "output_type": "stream",
          "text": [
            "Product of the array\n"
          ],
          "name": "stdout"
        },
        {
          "output_type": "execute_result",
          "data": {
            "text/plain": [
              "30"
            ]
          },
          "metadata": {
            "tags": []
          },
          "execution_count": 89
        }
      ]
    },
    {
      "cell_type": "markdown",
      "metadata": {
        "id": "8rBsR8TgzkhS"
      },
      "source": [
        "Closures\n",
        "\n",
        "A function can return another function with specific behaviours depending on the arguments"
      ]
    },
    {
      "cell_type": "code",
      "metadata": {
        "id": "NQ9l5wxZm4SV"
      },
      "source": [
        "def get_loss(op_reduce, op_foreach):\n",
        "    \n",
        "    def loss(a, b):\n",
        "        c = []\n",
        "        for av, bv in zip(a, b):\n",
        "            c.append(op_foreach(av, bv))\n",
        "        return op_reduce(c)\n",
        "  \n",
        "    return loss"
      ],
      "execution_count": null,
      "outputs": []
    },
    {
      "cell_type": "markdown",
      "metadata": {
        "id": "-L5B35yEz4Ic"
      },
      "source": [
        "This function can help to define mean squared error"
      ]
    },
    {
      "cell_type": "code",
      "metadata": {
        "id": "w4a2_Al4z4qW"
      },
      "source": [
        "mse_loss = get_loss(lambda x : sum(x) / len(x), \n",
        "                    lambda a, b : (a - b) ** 2)"
      ],
      "execution_count": null,
      "outputs": []
    },
    {
      "cell_type": "markdown",
      "metadata": {
        "id": "jXVJNuY40ARh"
      },
      "source": [
        "Or mean absolute error"
      ]
    },
    {
      "cell_type": "code",
      "metadata": {
        "id": "MYcFxRq70A4K"
      },
      "source": [
        "mae_loss = get_loss(lambda x : sum(x) / len(x), \n",
        "                    lambda a, b : abs(a - b))"
      ],
      "execution_count": null,
      "outputs": []
    },
    {
      "cell_type": "markdown",
      "metadata": {
        "id": "FDKP5V-c0GY8"
      },
      "source": [
        "We can check that it works as intended"
      ]
    },
    {
      "cell_type": "code",
      "metadata": {
        "id": "oYIyTRmN0G6r",
        "outputId": "8b170173-e9bf-4a36-9003-b37c9eaefcfb",
        "colab": {
          "base_uri": "https://localhost:8080/",
          "height": 106
        }
      },
      "source": [
        "list1 = [0, 1, 1, 3, 0, 2, 3]\n",
        "list2 = [1, 1, 2, 0, 0, 2, 3]\n",
        "\n",
        "list_mse = mse_loss(list1, list2)\n",
        "list_mae = mae_loss(list1, list2)\n",
        "\n",
        "print(\"Two lists:\\n\", list1, \"\\n\", list2)\n",
        "print(\"MSE Loss: {}\\nMAE Loss: {}\".format(list_mse, list_mae))"
      ],
      "execution_count": null,
      "outputs": [
        {
          "output_type": "stream",
          "text": [
            "Two lists:\n",
            " [0, 1, 1, 3, 0, 2, 3] \n",
            " [1, 1, 2, 0, 0, 2, 3]\n",
            "MSE Loss: 1.5714285714285714\n",
            "MAE Loss: 0.7142857142857143\n"
          ],
          "name": "stdout"
        }
      ]
    },
    {
      "cell_type": "markdown",
      "metadata": {
        "id": "LoPGG5zNAjoU"
      },
      "source": [
        "## Exceptions"
      ]
    },
    {
      "cell_type": "code",
      "metadata": {
        "id": "eYsGH9tQAlHr",
        "outputId": "f81e9721-a450-488d-eca1-8c769a947425",
        "colab": {
          "base_uri": "https://localhost:8080/",
          "height": 494
        }
      },
      "source": [
        "# Throw exception\n",
        "def bar():\n",
        "    foo()\n",
        "\n",
        "def foo():\n",
        "    1 / 0\n",
        "    \n",
        "bar()"
      ],
      "execution_count": null,
      "outputs": [
        {
          "output_type": "error",
          "ename": "ZeroDivisionError",
          "evalue": "ignored",
          "traceback": [
            "\u001b[0;31m---------------------------------------------------------------------------\u001b[0m",
            "\u001b[0;31mZeroDivisionError\u001b[0m                         Traceback (most recent call last)",
            "\u001b[0;32m<ipython-input-96-bfd0d556d233>\u001b[0m in \u001b[0;36m<module>\u001b[0;34m()\u001b[0m\n\u001b[1;32m      5\u001b[0m     \u001b[0;36m1\u001b[0m \u001b[0;34m/\u001b[0m \u001b[0;36m0\u001b[0m\u001b[0;34m\u001b[0m\u001b[0;34m\u001b[0m\u001b[0m\n\u001b[1;32m      6\u001b[0m \u001b[0;34m\u001b[0m\u001b[0m\n\u001b[0;32m----> 7\u001b[0;31m \u001b[0mbar\u001b[0m\u001b[0;34m(\u001b[0m\u001b[0;34m)\u001b[0m\u001b[0;34m\u001b[0m\u001b[0;34m\u001b[0m\u001b[0m\n\u001b[0m",
            "\u001b[0;32m<ipython-input-96-bfd0d556d233>\u001b[0m in \u001b[0;36mbar\u001b[0;34m()\u001b[0m\n\u001b[1;32m      1\u001b[0m \u001b[0;32mdef\u001b[0m \u001b[0mbar\u001b[0m\u001b[0;34m(\u001b[0m\u001b[0;34m)\u001b[0m\u001b[0;34m:\u001b[0m\u001b[0;34m\u001b[0m\u001b[0;34m\u001b[0m\u001b[0m\n\u001b[0;32m----> 2\u001b[0;31m     \u001b[0mfoo\u001b[0m\u001b[0;34m(\u001b[0m\u001b[0;34m)\u001b[0m\u001b[0;34m\u001b[0m\u001b[0;34m\u001b[0m\u001b[0m\n\u001b[0m\u001b[1;32m      3\u001b[0m \u001b[0;34m\u001b[0m\u001b[0m\n\u001b[1;32m      4\u001b[0m \u001b[0;32mdef\u001b[0m \u001b[0mfoo\u001b[0m\u001b[0;34m(\u001b[0m\u001b[0;34m)\u001b[0m\u001b[0;34m:\u001b[0m\u001b[0;34m\u001b[0m\u001b[0;34m\u001b[0m\u001b[0m\n\u001b[1;32m      5\u001b[0m     \u001b[0;36m1\u001b[0m \u001b[0;34m/\u001b[0m \u001b[0;36m0\u001b[0m\u001b[0;34m\u001b[0m\u001b[0;34m\u001b[0m\u001b[0m\n",
            "\u001b[0;32m<ipython-input-96-bfd0d556d233>\u001b[0m in \u001b[0;36mfoo\u001b[0;34m()\u001b[0m\n\u001b[1;32m      3\u001b[0m \u001b[0;34m\u001b[0m\u001b[0m\n\u001b[1;32m      4\u001b[0m \u001b[0;32mdef\u001b[0m \u001b[0mfoo\u001b[0m\u001b[0;34m(\u001b[0m\u001b[0;34m)\u001b[0m\u001b[0;34m:\u001b[0m\u001b[0;34m\u001b[0m\u001b[0;34m\u001b[0m\u001b[0m\n\u001b[0;32m----> 5\u001b[0;31m     \u001b[0;36m1\u001b[0m \u001b[0;34m/\u001b[0m \u001b[0;36m0\u001b[0m\u001b[0;34m\u001b[0m\u001b[0;34m\u001b[0m\u001b[0m\n\u001b[0m\u001b[1;32m      6\u001b[0m \u001b[0;34m\u001b[0m\u001b[0m\n\u001b[1;32m      7\u001b[0m \u001b[0mbar\u001b[0m\u001b[0;34m(\u001b[0m\u001b[0;34m)\u001b[0m\u001b[0;34m\u001b[0m\u001b[0;34m\u001b[0m\u001b[0m\n",
            "\u001b[0;31mZeroDivisionError\u001b[0m: division by zero"
          ]
        }
      ]
    },
    {
      "cell_type": "code",
      "metadata": {
        "id": "IwpCXA3nA3Ap",
        "outputId": "430b08ec-aa6a-427e-9710-836cc50860d2",
        "colab": {
          "base_uri": "https://localhost:8080/",
          "height": 72
        }
      },
      "source": [
        "# Catch exceptions\n",
        "try:\n",
        "    raise ValueError\n",
        "except ValueError:\n",
        "    print(\"Do something else\")\n",
        "finally:\n",
        "    print(\"This part runs always. It is useful for closing files or \"\n",
        "          \"releasing other resources\")"
      ],
      "execution_count": null,
      "outputs": [
        {
          "output_type": "stream",
          "text": [
            "Do something else\n",
            "This part runs always. It is useful for closing files or releasing other resources\n"
          ],
          "name": "stdout"
        }
      ]
    },
    {
      "cell_type": "markdown",
      "metadata": {
        "id": "p1cOGDXHCR-O"
      },
      "source": [
        "## Classes"
      ]
    },
    {
      "cell_type": "markdown",
      "metadata": {
        "id": "r-PruhWd02K0"
      },
      "source": [
        "Class definition"
      ]
    },
    {
      "cell_type": "code",
      "metadata": {
        "id": "IRXa51OfCPEk"
      },
      "source": [
        "class Shape:\n",
        "    pass"
      ],
      "execution_count": null,
      "outputs": []
    },
    {
      "cell_type": "markdown",
      "metadata": {
        "id": "y93ArCva06GI"
      },
      "source": [
        "`shape` is an object of class `Shape`"
      ]
    },
    {
      "cell_type": "code",
      "metadata": {
        "id": "0m2SgTiS06tB",
        "outputId": "24bacd66-52c4-422a-d9cc-3c6adf12fa44",
        "colab": {
          "base_uri": "https://localhost:8080/",
          "height": 35
        }
      },
      "source": [
        "shape = Shape()\n",
        "type(shape)"
      ],
      "execution_count": null,
      "outputs": [
        {
          "output_type": "execute_result",
          "data": {
            "text/plain": [
              "__main__.Shape"
            ]
          },
          "metadata": {
            "tags": []
          },
          "execution_count": 99
        }
      ]
    },
    {
      "cell_type": "markdown",
      "metadata": {
        "id": "F6zvhV8H1BVA"
      },
      "source": [
        "In legacy python we used to write\n",
        "```python\n",
        "class Shape(object):\n",
        "```\n",
        "This is not needed anymore \n",
        "unless you expect someone to run you code in legacy environment"
      ]
    },
    {
      "cell_type": "markdown",
      "metadata": {
        "id": "C-Kvdhg41Ju3"
      },
      "source": [
        "More on class definitions"
      ]
    },
    {
      "cell_type": "code",
      "metadata": {
        "id": "1tCXVcPAB4YQ",
        "outputId": "32754ac3-c0da-40a7-d432-4dbafe133501",
        "colab": {
          "base_uri": "https://localhost:8080/",
          "height": 35
        }
      },
      "source": [
        "class Shape:\n",
        "    class_field = 9\n",
        "    \n",
        "    def __init__(self, name):\n",
        "        self.name = name\n",
        "        self.value = 42\n",
        "    \n",
        "    def method(self, a):\n",
        "        return a * 2 + self.value\n",
        "    \n",
        "shape = Shape(\"name\")\n",
        "shape.method(7)"
      ],
      "execution_count": null,
      "outputs": [
        {
          "output_type": "execute_result",
          "data": {
            "text/plain": [
              "56"
            ]
          },
          "metadata": {
            "tags": []
          },
          "execution_count": 103
        }
      ]
    },
    {
      "cell_type": "markdown",
      "metadata": {
        "id": "dKU0asYuazOF"
      },
      "source": [
        "## Imports\n",
        "\n",
        "Adding new packages in python is very easy and many packages are available from the box. If you want some library, there is a good chance that someone else wrote it already.\n",
        "\n",
        "Generally, import statement looks like"
      ]
    },
    {
      "cell_type": "code",
      "metadata": {
        "id": "VFeYVIqocjsm",
        "outputId": "1a3c2616-86f6-4d5c-e937-e6fba767c4b0",
        "colab": {
          "base_uri": "https://localhost:8080/",
          "height": 35
        }
      },
      "source": [
        "import time\n",
        "\n",
        "time.time()"
      ],
      "execution_count": null,
      "outputs": [
        {
          "output_type": "execute_result",
          "data": {
            "text/plain": [
              "1568137313.0086584"
            ]
          },
          "metadata": {
            "tags": []
          },
          "execution_count": 104
        }
      ]
    },
    {
      "cell_type": "markdown",
      "metadata": {
        "id": "0pNMsOuJctzb"
      },
      "source": [
        "You can specify what parts of the package you want to import"
      ]
    },
    {
      "cell_type": "code",
      "metadata": {
        "id": "jfy8OQqwcr0A",
        "outputId": "29b6ef05-184f-4178-d20e-7b93ae333e5e",
        "colab": {
          "base_uri": "https://localhost:8080/",
          "height": 52
        }
      },
      "source": [
        "from time import time, sleep\n",
        "\n",
        "print(time())\n",
        "sleep(2)\n",
        "print(time())"
      ],
      "execution_count": null,
      "outputs": [
        {
          "output_type": "stream",
          "text": [
            "1568137330.697699\n",
            "1568137332.6999407\n"
          ],
          "name": "stdout"
        }
      ]
    },
    {
      "cell_type": "markdown",
      "metadata": {
        "id": "mSBeBMM-Vi-z"
      },
      "source": [
        "## Other useful features"
      ]
    },
    {
      "cell_type": "markdown",
      "metadata": {
        "id": "LrQ4hw8KVliz"
      },
      "source": [
        "Multiple assignment"
      ]
    },
    {
      "cell_type": "code",
      "metadata": {
        "id": "xq5p8zc9VqW8"
      },
      "source": [
        "a, b = b, a"
      ],
      "execution_count": null,
      "outputs": []
    },
    {
      "cell_type": "markdown",
      "metadata": {
        "id": "8M8zrRNkVuHM"
      },
      "source": [
        "It works with any kind of list-like objects!"
      ]
    },
    {
      "cell_type": "code",
      "metadata": {
        "id": "bKPgc-E2Vxfp"
      },
      "source": [
        "a, b = [10, 11]"
      ],
      "execution_count": null,
      "outputs": []
    },
    {
      "cell_type": "markdown",
      "metadata": {
        "id": "rXH3h0TVVz8r"
      },
      "source": [
        "Starred assignment expressions"
      ]
    },
    {
      "cell_type": "code",
      "metadata": {
        "id": "ydvlwtxOV819",
        "outputId": "d30f553d-6698-475b-e10f-45134b1b58e8",
        "colab": {
          "base_uri": "https://localhost:8080/",
          "height": 35
        }
      },
      "source": [
        "a, *b = [1, 2, 3, 4]\n",
        "print(b)"
      ],
      "execution_count": null,
      "outputs": [
        {
          "output_type": "stream",
          "text": [
            "[2, 3, 4]\n"
          ],
          "name": "stdout"
        }
      ]
    },
    {
      "cell_type": "markdown",
      "metadata": {
        "id": "FZ4l0DS_WB5-"
      },
      "source": [
        "This works for prefixes and sufixes"
      ]
    },
    {
      "cell_type": "code",
      "metadata": {
        "id": "eX2_V2CRWHLh",
        "outputId": "8ece9662-e35d-4904-893c-f0bd72d4cba0",
        "colab": {
          "base_uri": "https://localhost:8080/",
          "height": 35
        }
      },
      "source": [
        "*a, b, c = [1, 2, 3, 4]\n",
        "print(a)"
      ],
      "execution_count": null,
      "outputs": [
        {
          "output_type": "stream",
          "text": [
            "[1, 2]\n"
          ],
          "name": "stdout"
        }
      ]
    },
    {
      "cell_type": "markdown",
      "metadata": {
        "id": "XHmrP9ayaG6X"
      },
      "source": [
        "# Exercises"
      ]
    },
    {
      "cell_type": "markdown",
      "metadata": {
        "id": "cUE9SvlVdc4_"
      },
      "source": [
        "## Exercise 1\n",
        "\n",
        "Write a function that samples a uniform random number from `a` to `b`.\n",
        "\n",
        "Use function `random.random` from package `random`. Documentation is available [here](https://docs.python.org/3.7/library/random.html)"
      ]
    },
    {
      "cell_type": "code",
      "metadata": {
        "id": "Jy7ND3SRkeCj"
      },
      "source": [
        ""
      ],
      "execution_count": null,
      "outputs": []
    },
    {
      "cell_type": "markdown",
      "metadata": {
        "id": "p7CIN4iWr3tx"
      },
      "source": [
        "## Exercise 2\n",
        "\n",
        "Write a function that creates a list of length `n` of samples like in Excercise 1."
      ]
    },
    {
      "cell_type": "code",
      "metadata": {
        "id": "_UFZLC4ssAm1"
      },
      "source": [
        ""
      ],
      "execution_count": null,
      "outputs": []
    },
    {
      "cell_type": "markdown",
      "metadata": {
        "id": "bDNxuKNHsI-L"
      },
      "source": [
        "## Exercise 3\n",
        "\n",
        "Write a function that computes an average of a list of numbers."
      ]
    },
    {
      "cell_type": "code",
      "metadata": {
        "id": "vhsHU8qXsH50"
      },
      "source": [
        ""
      ],
      "execution_count": null,
      "outputs": []
    },
    {
      "cell_type": "markdown",
      "metadata": {
        "id": "4RS0grGJsUsK"
      },
      "source": [
        "## Exercise 4\n",
        "\n",
        "Write a function that creates `m` lists like in Exercise 2 and computes average of each list"
      ]
    },
    {
      "cell_type": "code",
      "metadata": {
        "id": "CCl07aGwsTqY"
      },
      "source": [
        ""
      ],
      "execution_count": null,
      "outputs": []
    },
    {
      "cell_type": "markdown",
      "metadata": {
        "id": "u1pZtZ18tr--"
      },
      "source": [
        "Create a list of averages of numbers between 1.0 and 2.0. Make each list of size 10. Vary number of averages from 100 to 10000. Adjust number of bins in the histogram for the best visualization.\n",
        "\n",
        "Use `matplotlib` library as follows:\n",
        "```python\n",
        "from matplotlib import pyplot as plt\n",
        "\n",
        "plt.figure()\n",
        "plt.hist(array, bins=50)\n",
        "plt.show()\n",
        "```"
      ]
    }
  ]
}